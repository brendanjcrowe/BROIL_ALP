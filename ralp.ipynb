{
 "cells": [
  {
   "cell_type": "code",
   "execution_count": 13,
   "id": "catholic-teach",
   "metadata": {},
   "outputs": [],
   "source": [
    "import pandas as pd\n",
    "import numpy as np\n",
    "from csv_loader import load_marek_csv\n",
    "from scipy.sparse import identity"
   ]
  },
  {
   "cell_type": "code",
   "execution_count": 9,
   "id": "compressed-kelly",
   "metadata": {},
   "outputs": [
    {
     "name": "stderr",
     "output_type": "stream",
     "text": [
      "561it [00:00, 5425.71it/s]"
     ]
    },
    {
     "name": "stdout",
     "output_type": "stream",
     "text": [
      "Loading Marek's CSV\n"
     ]
    },
    {
     "name": "stderr",
     "output_type": "stream",
     "text": [
      "381927it [01:13, 5211.35it/s]\n"
     ]
    }
   ],
   "source": [
    "data = pd.read_csv('marek_test_mdp.csv')\n",
    "p, r, _, _ = load_marek_csv('marek_test_mdp.csv')"
   ]
  },
  {
   "cell_type": "code",
   "execution_count": 10,
   "id": "earned-newport",
   "metadata": {},
   "outputs": [
    {
     "data": {
      "text/html": [
       "<div>\n",
       "<style scoped>\n",
       "    .dataframe tbody tr th:only-of-type {\n",
       "        vertical-align: middle;\n",
       "    }\n",
       "\n",
       "    .dataframe tbody tr th {\n",
       "        vertical-align: top;\n",
       "    }\n",
       "\n",
       "    .dataframe thead th {\n",
       "        text-align: right;\n",
       "    }\n",
       "</style>\n",
       "<table border=\"1\" class=\"dataframe\">\n",
       "  <thead>\n",
       "    <tr style=\"text-align: right;\">\n",
       "      <th></th>\n",
       "      <th>idstate_from</th>\n",
       "      <th>rates_from</th>\n",
       "      <th>cases_from</th>\n",
       "      <th>rates_to</th>\n",
       "      <th>cases_to</th>\n",
       "      <th>idstate_to</th>\n",
       "      <th>probability</th>\n",
       "      <th>idaction</th>\n",
       "      <th>reward</th>\n",
       "    </tr>\n",
       "  </thead>\n",
       "  <tbody>\n",
       "    <tr>\n",
       "      <th>0</th>\n",
       "      <td>1</td>\n",
       "      <td>0.5</td>\n",
       "      <td>0.000000</td>\n",
       "      <td>0.736842</td>\n",
       "      <td>0.000000</td>\n",
       "      <td>301</td>\n",
       "      <td>1.223307e-09</td>\n",
       "      <td>0</td>\n",
       "      <td>0.000000</td>\n",
       "    </tr>\n",
       "    <tr>\n",
       "      <th>1</th>\n",
       "      <td>1</td>\n",
       "      <td>0.5</td>\n",
       "      <td>0.000000</td>\n",
       "      <td>0.736842</td>\n",
       "      <td>15.151515</td>\n",
       "      <td>302</td>\n",
       "      <td>3.881806e-10</td>\n",
       "      <td>0</td>\n",
       "      <td>0.000000</td>\n",
       "    </tr>\n",
       "    <tr>\n",
       "      <th>2</th>\n",
       "      <td>1</td>\n",
       "      <td>0.5</td>\n",
       "      <td>0.000000</td>\n",
       "      <td>0.815789</td>\n",
       "      <td>0.000000</td>\n",
       "      <td>401</td>\n",
       "      <td>1.405600e-08</td>\n",
       "      <td>0</td>\n",
       "      <td>0.000000</td>\n",
       "    </tr>\n",
       "    <tr>\n",
       "      <th>3</th>\n",
       "      <td>1</td>\n",
       "      <td>0.5</td>\n",
       "      <td>0.000000</td>\n",
       "      <td>0.815789</td>\n",
       "      <td>15.151515</td>\n",
       "      <td>402</td>\n",
       "      <td>4.460262e-09</td>\n",
       "      <td>0</td>\n",
       "      <td>0.000000</td>\n",
       "    </tr>\n",
       "    <tr>\n",
       "      <th>4</th>\n",
       "      <td>1</td>\n",
       "      <td>0.5</td>\n",
       "      <td>0.000000</td>\n",
       "      <td>0.894737</td>\n",
       "      <td>0.000000</td>\n",
       "      <td>501</td>\n",
       "      <td>1.361733e-07</td>\n",
       "      <td>0</td>\n",
       "      <td>0.000000</td>\n",
       "    </tr>\n",
       "    <tr>\n",
       "      <th>...</th>\n",
       "      <td>...</td>\n",
       "      <td>...</td>\n",
       "      <td>...</td>\n",
       "      <td>...</td>\n",
       "      <td>...</td>\n",
       "      <td>...</td>\n",
       "      <td>...</td>\n",
       "      <td>...</td>\n",
       "      <td>...</td>\n",
       "    </tr>\n",
       "    <tr>\n",
       "      <th>384378</th>\n",
       "      <td>1952</td>\n",
       "      <td>2.0</td>\n",
       "      <td>772.727273</td>\n",
       "      <td>1.368421</td>\n",
       "      <td>1500.000000</td>\n",
       "      <td>1200</td>\n",
       "      <td>4.448691e-03</td>\n",
       "      <td>1</td>\n",
       "      <td>-972.727273</td>\n",
       "    </tr>\n",
       "    <tr>\n",
       "      <th>384379</th>\n",
       "      <td>1952</td>\n",
       "      <td>2.0</td>\n",
       "      <td>772.727273</td>\n",
       "      <td>1.447368</td>\n",
       "      <td>1500.000000</td>\n",
       "      <td>1300</td>\n",
       "      <td>1.342030e-03</td>\n",
       "      <td>1</td>\n",
       "      <td>-972.727273</td>\n",
       "    </tr>\n",
       "    <tr>\n",
       "      <th>384380</th>\n",
       "      <td>1952</td>\n",
       "      <td>2.0</td>\n",
       "      <td>772.727273</td>\n",
       "      <td>1.526316</td>\n",
       "      <td>1500.000000</td>\n",
       "      <td>1400</td>\n",
       "      <td>3.413466e-04</td>\n",
       "      <td>1</td>\n",
       "      <td>-972.727273</td>\n",
       "    </tr>\n",
       "    <tr>\n",
       "      <th>384381</th>\n",
       "      <td>1952</td>\n",
       "      <td>2.0</td>\n",
       "      <td>772.727273</td>\n",
       "      <td>1.605263</td>\n",
       "      <td>1500.000000</td>\n",
       "      <td>1500</td>\n",
       "      <td>7.320363e-05</td>\n",
       "      <td>1</td>\n",
       "      <td>-972.727273</td>\n",
       "    </tr>\n",
       "    <tr>\n",
       "      <th>384382</th>\n",
       "      <td>1952</td>\n",
       "      <td>2.0</td>\n",
       "      <td>772.727273</td>\n",
       "      <td>1.684211</td>\n",
       "      <td>1500.000000</td>\n",
       "      <td>1600</td>\n",
       "      <td>1.323650e-05</td>\n",
       "      <td>1</td>\n",
       "      <td>-972.727273</td>\n",
       "    </tr>\n",
       "  </tbody>\n",
       "</table>\n",
       "<p>384383 rows × 9 columns</p>\n",
       "</div>"
      ],
      "text/plain": [
       "        idstate_from  rates_from  cases_from  rates_to     cases_to  \\\n",
       "0                  1         0.5    0.000000  0.736842     0.000000   \n",
       "1                  1         0.5    0.000000  0.736842    15.151515   \n",
       "2                  1         0.5    0.000000  0.815789     0.000000   \n",
       "3                  1         0.5    0.000000  0.815789    15.151515   \n",
       "4                  1         0.5    0.000000  0.894737     0.000000   \n",
       "...              ...         ...         ...       ...          ...   \n",
       "384378          1952         2.0  772.727273  1.368421  1500.000000   \n",
       "384379          1952         2.0  772.727273  1.447368  1500.000000   \n",
       "384380          1952         2.0  772.727273  1.526316  1500.000000   \n",
       "384381          1952         2.0  772.727273  1.605263  1500.000000   \n",
       "384382          1952         2.0  772.727273  1.684211  1500.000000   \n",
       "\n",
       "        idstate_to   probability  idaction      reward  \n",
       "0              301  1.223307e-09         0    0.000000  \n",
       "1              302  3.881806e-10         0    0.000000  \n",
       "2              401  1.405600e-08         0    0.000000  \n",
       "3              402  4.460262e-09         0    0.000000  \n",
       "4              501  1.361733e-07         0    0.000000  \n",
       "...            ...           ...       ...         ...  \n",
       "384378        1200  4.448691e-03         1 -972.727273  \n",
       "384379        1300  1.342030e-03         1 -972.727273  \n",
       "384380        1400  3.413466e-04         1 -972.727273  \n",
       "384381        1500  7.320363e-05         1 -972.727273  \n",
       "384382        1600  1.323650e-05         1 -972.727273  \n",
       "\n",
       "[384383 rows x 9 columns]"
      ]
     },
     "execution_count": 10,
     "metadata": {},
     "output_type": "execute_result"
    }
   ],
   "source": [
    "data"
   ]
  },
  {
   "cell_type": "code",
   "execution_count": 69,
   "id": "lesser-ensemble",
   "metadata": {},
   "outputs": [],
   "source": [
    "R = np.array(data.groupby(['idaction']).mean()[['rates_from','cases_from']]).T.reshape(4,1)"
   ]
  },
  {
   "cell_type": "code",
   "execution_count": 80,
   "id": "random-smile",
   "metadata": {},
   "outputs": [],
   "source": [
    "index = np.array(list(data.groupby(['idstate_from']).mean().index)) - 1\n",
    "P = p[index, :][:, index, :]\n",
    "#R = r[index, :][:, index, :]"
   ]
  },
  {
   "cell_type": "code",
   "execution_count": 81,
   "id": "productive-egyptian",
   "metadata": {},
   "outputs": [],
   "source": [
    "PHI = np.array(data.groupby(['idstate_from']).mean()[['rates_from', 'cases_from']])\n",
    "num_states, num_features = PHI.shape\n",
    "num_actions = data.idaction.unique().shape[0]"
   ]
  },
  {
   "cell_type": "code",
   "execution_count": 82,
   "id": "intelligent-buffalo",
   "metadata": {},
   "outputs": [],
   "source": [
    "c = np.ones(num_states)\n",
    "P = np.concatenate((P[:,:,0], P[:,:,1]))\n",
    "#R_TILDE = np.concatenate((R[:,:,0], R[:,:,1]))\n",
    "#R_TILDE = np.mean(R_TILDE, axis=1)\n",
    "R_TILDE = R\n",
    "#R_TILDE = np.eye(num_features*num_actions)\n",
    "corners = np.zeros((num_states, num_features))\n",
    "PHI_HAT = np.concatenate((np.concatenate((PHI, corners),axis=1),np.concatenate((corners, PHI), axis=1)),axis=0)\n",
    "A = np.concatenate((np.eye(num_states), np.eye(num_states)), axis=0) - 0.9 * P"
   ]
  },
  {
   "cell_type": "code",
   "execution_count": 83,
   "id": "linear-bathroom",
   "metadata": {},
   "outputs": [
    {
     "data": {
      "text/plain": [
       "((1623,), (1623, 2))"
      ]
     },
     "execution_count": 83,
     "metadata": {},
     "output_type": "execute_result"
    }
   ],
   "source": [
    "c.shape, PHI.shape"
   ]
  },
  {
   "cell_type": "code",
   "execution_count": 84,
   "id": "sound-avatar",
   "metadata": {},
   "outputs": [
    {
     "data": {
      "text/plain": [
       "((3246, 1623), (1623, 2))"
      ]
     },
     "execution_count": 84,
     "metadata": {},
     "output_type": "execute_result"
    }
   ],
   "source": [
    "A.shape, PHI.shape"
   ]
  },
  {
   "cell_type": "code",
   "execution_count": 85,
   "id": "accredited-commodity",
   "metadata": {},
   "outputs": [
    {
     "data": {
      "text/plain": [
       "((3246, 4), (4, 1))"
      ]
     },
     "execution_count": 85,
     "metadata": {},
     "output_type": "execute_result"
    }
   ],
   "source": [
    "PHI_HAT.shape, R_TILDE.shape"
   ]
  },
  {
   "cell_type": "code",
   "execution_count": 86,
   "id": "defined-marathon",
   "metadata": {},
   "outputs": [
    {
     "name": "stdout",
     "output_type": "stream",
     "text": [
      "Gurobi Optimizer version 9.1.1 build v9.1.1rc0 (win64)\n",
      "Thread count: 4 physical cores, 8 logical processors, using up to 8 threads\n",
      "Optimize a model with 3248 rows, 3 columns and 9740 nonzeros\n",
      "Model fingerprint: 0x745b97ca\n",
      "Coefficient statistics:\n",
      "  Matrix range     [4e-04, 8e+05]\n",
      "  Objective range  [2e+03, 1e+06]\n",
      "  Bounds range     [0e+00, 0e+00]\n",
      "  RHS range        [1e+00, 1e+00]\n",
      "Presolve removed 2 rows and 1 columns\n",
      "Presolve time: 0.02s\n",
      "Presolved: 3246 rows, 2 columns, 6492 nonzeros\n",
      "\n",
      "Iteration    Objective       Primal Inf.    Dual Inf.      Time\n",
      "       0      handle free variables                          0s\n",
      "\n",
      "Solved in 5 iterations and 0.04 seconds\n",
      "Infeasible or unbounded model\n"
     ]
    }
   ],
   "source": [
    "import gurobipy as gp\n",
    "from gurobipy import GRB\n",
    "\n",
    "m = gp.Model('lp')\n",
    "\n",
    "w_xi = m.addMVar(num_features + R_TILDE.shape[1], lb=float('-inf'))\n",
    "C = c.T @ PHI\n",
    "m.setMObjective(None, c=C, constant=0.0, xc=w_xi[0:num_features], sense=GRB.MINIMIZE)\n",
    "\n",
    "m.addConstr(A @ PHI @ w_xi[0:num_features] >= PHI_HAT @ R_TILDE @ w_xi[num_features:])\n",
    "m.addConstr(sum(w_xi[num_features:]) == 1)\n",
    "m.addConstrs(w_xi[i] >= 0 for i in range(num_features, num_features + R_TILDE.shape[1]))\n",
    "\n",
    "m.optimize()"
   ]
  },
  {
   "cell_type": "code",
   "execution_count": 77,
   "id": "underlying-ridge",
   "metadata": {},
   "outputs": [
    {
     "ename": "GurobiError",
     "evalue": "Unable to retrieve attribute 'pi'",
     "output_type": "error",
     "traceback": [
      "\u001b[1;31m---------------------------------------------------------------------------\u001b[0m",
      "\u001b[1;31mGurobiError\u001b[0m                               Traceback (most recent call last)",
      "\u001b[1;32m<ipython-input-77-9722cf794f6c>\u001b[0m in \u001b[0;36m<module>\u001b[1;34m\u001b[0m\n\u001b[1;32m----> 1\u001b[1;33m \u001b[0mprint\u001b[0m\u001b[1;33m(\u001b[0m\u001b[1;33m[\u001b[0m\u001b[0mv\u001b[0m \u001b[1;32mfor\u001b[0m \u001b[0mv\u001b[0m \u001b[1;32min\u001b[0m \u001b[0mm\u001b[0m\u001b[1;33m.\u001b[0m\u001b[0mpi\u001b[0m\u001b[1;33m]\u001b[0m\u001b[1;33m)\u001b[0m\u001b[1;33m\u001b[0m\u001b[1;33m\u001b[0m\u001b[0m\n\u001b[0m",
      "\u001b[1;32msrc\\gurobipy\\model.pxi\u001b[0m in \u001b[0;36mgurobipy.Model.__getattr__\u001b[1;34m()\u001b[0m\n",
      "\u001b[1;32msrc\\gurobipy\\model.pxi\u001b[0m in \u001b[0;36mgurobipy.Model.getAttr\u001b[1;34m()\u001b[0m\n",
      "\u001b[1;32msrc\\gurobipy\\attrutil.pxi\u001b[0m in \u001b[0;36mgurobipy.__gettypedattrlist\u001b[1;34m()\u001b[0m\n",
      "\u001b[1;31mGurobiError\u001b[0m: Unable to retrieve attribute 'pi'"
     ]
    }
   ],
   "source": [
    "print([v for v in m.pi])"
   ]
  },
  {
   "cell_type": "code",
   "execution_count": null,
   "id": "portable-guarantee",
   "metadata": {},
   "outputs": [],
   "source": []
  }
 ],
 "metadata": {
  "kernelspec": {
   "display_name": "Python 3",
   "language": "python",
   "name": "python3"
  },
  "language_info": {
   "codemirror_mode": {
    "name": "ipython",
    "version": 3
   },
   "file_extension": ".py",
   "mimetype": "text/x-python",
   "name": "python",
   "nbconvert_exporter": "python",
   "pygments_lexer": "ipython3",
   "version": "3.8.8"
  }
 },
 "nbformat": 4,
 "nbformat_minor": 5
}
