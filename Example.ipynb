{
 "cells": [
  {
   "cell_type": "code",
   "execution_count": 1,
   "id": "lucky-baker",
   "metadata": {},
   "outputs": [],
   "source": [
    "import numpy as np"
   ]
  },
  {
   "cell_type": "code",
   "execution_count": 2,
   "id": "fundamental-apparel",
   "metadata": {
    "tags": []
   },
   "outputs": [],
   "source": [
    "NUM_ACTIONS = 2\n",
    "GAMMA = 0.9"
   ]
  },
  {
   "cell_type": "code",
   "execution_count": 70,
   "id": "wicked-czech",
   "metadata": {},
   "outputs": [],
   "source": [
    "# Expected rewards for each state action pair\n",
    "R = np.array([-40, -80, -160, -380, -100, -100, -100, -100])\n",
    "R2 = np.array([0 ,0, 0, -500, -250, -250, -250, -250])\n",
    "#R2 = np.random.normal(-200, 20, size=(8,))"
   ]
  },
  {
   "cell_type": "code",
   "execution_count": 109,
   "id": "pointed-terrace",
   "metadata": {},
   "outputs": [
    {
     "data": {
      "text/plain": [
       "(array([1, 0, 0, 0]),\n",
       " array([[1., 0., 0., 0.],\n",
       "        [0., 1., 0., 0.],\n",
       "        [0., 0., 1., 0.],\n",
       "        [0., 0., 0., 1.]]),\n",
       " array([[ 0.55, -0.45,  0.  ,  0.  ],\n",
       "        [ 0.  ,  0.55, -0.45,  0.  ],\n",
       "        [ 0.  ,  0.  ,  0.55, -0.45],\n",
       "        [-0.45,  0.  ,  0.  ,  0.55],\n",
       "        [ 0.1 ,  0.  ,  0.  ,  0.  ],\n",
       "        [-0.9 ,  1.  ,  0.  ,  0.  ],\n",
       "        [-0.9 ,  0.  ,  1.  ,  0.  ],\n",
       "        [-0.9 ,  0.  ,  0.  ,  1.  ]]))"
      ]
     },
     "execution_count": 109,
     "metadata": {},
     "output_type": "execute_result"
    }
   ],
   "source": [
    "\n",
    "PHI = np.eye(4)\n",
    "# PHI = np.array(\n",
    "#     [\n",
    "#         [1.25,0],\n",
    "#         [1.5,0],\n",
    "#         [1.75,0],\n",
    "#         [0,1]\n",
    "#     ]\n",
    "# )\n",
    "P_0 = np.array(\n",
    "    [\n",
    "        [0.5, 0.5, 0, 0],\n",
    "        [0, 0.5, 0.5, 0],\n",
    "        [0, 0, 0.5, 0.5],\n",
    "        [0.5, 0, 0, 0.5]\n",
    "    ]\n",
    ")\n",
    "P_1 = np.concatenate((np.ones((4,1)), np.zeros((4, 3))), axis=1)\n",
    "A = np.concatenate((np.eye(4), np.eye(4))) - GAMMA * np.concatenate((P_0, P_1))\n",
    "NUM_STATES, NUM_FEATS = PHI.shape\n",
    "#c = np.ones(NUM_STATES) / np.sum(c)\n",
    "c = np.array([1, 0, 0, 0])\n",
    "c, PHI, A"
   ]
  },
  {
   "cell_type": "code",
   "execution_count": 110,
   "id": "white-officer",
   "metadata": {},
   "outputs": [
    {
     "data": {
      "text/plain": [
       "(array([[1., 0., 0., 0., 0., 0., 0., 0.],\n",
       "        [0., 1., 0., 0., 0., 0., 0., 0.],\n",
       "        [0., 0., 1., 0., 0., 0., 0., 0.],\n",
       "        [0., 0., 0., 1., 0., 0., 0., 0.],\n",
       "        [0., 0., 0., 0., 1., 0., 0., 0.],\n",
       "        [0., 0., 0., 0., 0., 1., 0., 0.],\n",
       "        [0., 0., 0., 0., 0., 0., 1., 0.],\n",
       "        [0., 0., 0., 0., 0., 0., 0., 1.]]),\n",
       " array([[ -40,    0],\n",
       "        [ -80,    0],\n",
       "        [-160,    0],\n",
       "        [-380, -500],\n",
       "        [-100, -250],\n",
       "        [-100, -250],\n",
       "        [-100, -250],\n",
       "        [-100, -250]]))"
      ]
     },
     "execution_count": 110,
     "metadata": {},
     "output_type": "execute_result"
    }
   ],
   "source": [
    "#PHI_HAT = np.eye(8)\n",
    "corners = np.zeros((NUM_STATES,NUM_FEATS))\n",
    "PHI_HAT = np.concatenate((np.concatenate((PHI, corners), axis=1), np.concatenate((corners, PHI), axis=1)))\n",
    "R_TILDE = np.concatenate((R,R2), axis=np.newaxis).reshape(2,8).T\n",
    "#R_TILDE = np.eye(8)\n",
    "#R_TILDE = R.reshape(8,1)\n",
    "PHI_HAT, R_TILDE"
   ]
  },
  {
   "cell_type": "code",
   "execution_count": 111,
   "id": "racial-chambers",
   "metadata": {},
   "outputs": [
    {
     "name": "stdout",
     "output_type": "stream",
     "text": [
      "Gurobi Optimizer version 9.1.1 build v9.1.1rc0 (win64)\n",
      "Thread count: 4 physical cores, 8 logical processors, using up to 8 threads\n",
      "Optimize a model with 9 rows, 6 columns and 30 nonzeros\n",
      "Model fingerprint: 0x0f0d4671\n",
      "Coefficient statistics:\n",
      "  Matrix range     [1e-01, 5e+02]\n",
      "  Objective range  [1e+00, 1e+00]\n",
      "  Bounds range     [0e+00, 0e+00]\n",
      "  RHS range        [1e+00, 1e+00]\n",
      "Presolve removed 7 rows and 4 columns\n",
      "Presolve time: 0.01s\n",
      "Presolved: 2 rows, 2 columns, 4 nonzeros\n",
      "\n",
      "Iteration    Objective       Primal Inf.    Dual Inf.      Time\n",
      "       0   -8.7020299e+02   1.386502e+01   0.000000e+00      0s\n",
      "       2   -6.1538462e+02   0.000000e+00   0.000000e+00      0s\n",
      "\n",
      "Solved in 2 iterations and 0.03 seconds\n",
      "Optimal objective -6.153846154e+02\n"
     ]
    }
   ],
   "source": [
    "import gurobipy as gp\n",
    "from gurobipy import GRB\n",
    "\n",
    "m = gp.Model('lp')\n",
    "\n",
    "w = m.addMVar(NUM_FEATS, lb=float('-inf'))\n",
    "xi = m.addMVar(R_TILDE.shape[1], lb=0)\n",
    "c = c.T @ PHI\n",
    "m.setMObjective(None, c=c, constant=0.0, xc=w, sense=GRB.MINIMIZE)\n",
    "\n",
    "m.addConstr(A @ PHI @ w >= PHI_HAT @ R_TILDE @ xi)\n",
    "m.addConstr(sum(xi) == 1)\n",
    "#m.addConstrs(xi[i] >= 0  for i in range(NUM_FEATS, NUM_FEATS + R_TILDE.shape[1]))\n",
    "\n",
    "m.optimize()"
   ]
  },
  {
   "cell_type": "code",
   "execution_count": 112,
   "id": "noticed-proceeding",
   "metadata": {},
   "outputs": [
    {
     "data": {
      "text/plain": [
       "array([0.84615385, 0.15384615])"
      ]
     },
     "execution_count": 112,
     "metadata": {},
     "output_type": "execute_result"
    }
   ],
   "source": [
    "w_opt = np.array([v.x for v in m.getVars()])[0:NUM_FEATS]\n",
    "xi = np.array([v.x for v in m.getVars()])[NUM_FEATS:]\n",
    "xi"
   ]
  },
  {
   "cell_type": "code",
   "execution_count": 113,
   "id": "interior-record",
   "metadata": {},
   "outputs": [
    {
     "data": {
      "text/plain": [
       "array([-615.38461538, -676.92307692, -676.92307692, -526.4957265 ])"
      ]
     },
     "execution_count": 113,
     "metadata": {},
     "output_type": "execute_result"
    }
   ],
   "source": [
    "PHI @ w_opt"
   ]
  },
  {
   "cell_type": "code",
   "execution_count": 114,
   "id": "gorgeous-glossary",
   "metadata": {},
   "outputs": [
    {
     "data": {
      "text/plain": [
       "array([ -0.,   0.,   0., 386.,  62.,   0.,  -0., 150.])"
      ]
     },
     "execution_count": 114,
     "metadata": {},
     "output_type": "execute_result"
    }
   ],
   "source": [
    "np.round(A @ PHI @ w_opt - PHI_HAT @ R_TILDE @ xi)"
   ]
  },
  {
   "cell_type": "code",
   "execution_count": 115,
   "id": "outdoor-quantity",
   "metadata": {},
   "outputs": [
    {
     "data": {
      "text/plain": [
       "([5.846153846153845, 1.6923076923076918, -0.0, 0.0],\n",
       " [0.0, 1.6999999999999997, 0.7615384615384614, 0.0])"
      ]
     },
     "execution_count": 115,
     "metadata": {},
     "output_type": "execute_result"
    }
   ],
   "source": [
    "m.pi[0:4], m.pi[4:8]"
   ]
  },
  {
   "cell_type": "code",
   "execution_count": 116,
   "id": "joined-auction",
   "metadata": {},
   "outputs": [
    {
     "name": "stderr",
     "output_type": "stream",
     "text": [
      "<ipython-input-116-767ff456d3b9>:2: RuntimeWarning: invalid value encountered in true_divide\n",
      "  u = u / u.sum(axis=1).reshape(4,1)\n"
     ]
    },
    {
     "data": {
      "text/plain": [
       "array([[ 1.        ,  0.        ],\n",
       "       [ 0.49886621,  0.50113379],\n",
       "       [-0.        ,  1.        ],\n",
       "       [        nan,         nan]])"
      ]
     },
     "execution_count": 116,
     "metadata": {},
     "output_type": "execute_result"
    }
   ],
   "source": [
    "u = np.array(m.pi[0:8]).reshape(2,4).T\n",
    "u = u / u.sum(axis=1).reshape(4,1)\n",
    "u"
   ]
  },
  {
   "cell_type": "code",
   "execution_count": null,
   "id": "alpine-spare",
   "metadata": {},
   "outputs": [],
   "source": []
  }
 ],
 "metadata": {
  "kernelspec": {
   "display_name": "Python 3",
   "language": "python",
   "name": "python3"
  },
  "language_info": {
   "codemirror_mode": {
    "name": "ipython",
    "version": 3
   },
   "file_extension": ".py",
   "mimetype": "text/x-python",
   "name": "python",
   "nbconvert_exporter": "python",
   "pygments_lexer": "ipython3",
   "version": "3.8.8"
  }
 },
 "nbformat": 4,
 "nbformat_minor": 5
}
